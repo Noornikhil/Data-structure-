{
 "cells": [
  {
   "cell_type": "code",
   "execution_count": null,
   "id": "0c00e592-33f0-4ead-ad99-9488d1c870a0",
   "metadata": {},
   "outputs": [],
   "source": [
    "1. What are data structures, and why are they important?\n",
    "  ->Way of organinzing and storing data sp that it can be accessed and manipulated effeciently.\n",
    "      eg- string , list,set,tuple , dictionary."
   ]
  },
  {
   "cell_type": "code",
   "execution_count": null,
   "id": "daa0c80e-1990-4559-9901-a653e314e909",
   "metadata": {},
   "outputs": [],
   "source": [
    "2. Explain the difference between mutable and immutable data types with examples?\n",
    "-> Mutable data are those data which are changeable/modified after they created while immutable are those whose values cannot be changed\n",
    "    eg of mutable data type = list , sets , dictionaries .\n",
    "    Eg of immutable data types = strring, tuples , etc \n"
   ]
  },
  {
   "cell_type": "code",
   "execution_count": null,
   "id": "6f3c7db3-bf8a-4009-b4f2-f265d5c0a264",
   "metadata": {},
   "outputs": [],
   "source": [
    "3. What are the main differences between lists and tuples in Python?\n",
    " -> List= list is any order collection of data/ element that can be of any type , list are mutable \n",
    "    Tuples= tuples are ordered collection of element that can be heterogenous , but tuple is immutable."
   ]
  },
  {
   "cell_type": "code",
   "execution_count": null,
   "id": "e6d17cb9-db36-408d-9014-665d9783e78f",
   "metadata": {},
   "outputs": [],
   "source": [
    "4. Describe how dictionaries store data? \n",
    "  -> It is a data sturtucture that store data as key value pair.\n",
    "      keys are unique and immutable.\n",
    "      They are unordered .\n"
   ]
  },
  {
   "cell_type": "code",
   "execution_count": null,
   "id": "b4a7483b-fd16-4e15-8f75-c514d123a392",
   "metadata": {},
   "outputs": [],
   "source": [
    "5. Why might you use a set instead of a list inPython ?\n",
    "  -> Instead of list we use sets because sets are unordered and unique collection of elements, doesn't allow duplicate elements .\n",
    "     Unordered indexing will not work."
   ]
  },
  {
   "cell_type": "code",
   "execution_count": null,
   "id": "54a2c3dc-b0b6-4e85-a7d5-ff7e62d4d578",
   "metadata": {},
   "outputs": [],
   "source": [
    "6. What is a string in Python, and how is it different from a list?\n",
    "  -> String = It is a sequence of character represent and manipulated textual data. \n",
    "      Character are represent using numeric values each charcter is assigned a unquie encoding .\n",
    "      string enclose in quotes (\") while list in square brackets[]. string can be immutable while list is mitable."
   ]
  },
  {
   "cell_type": "code",
   "execution_count": null,
   "id": "b8fbcfca-4df9-4637-a8c0-9159d6f0f148",
   "metadata": {},
   "outputs": [],
   "source": [
    "7. How do tuples ensure data integrity in Python?\n",
    " -> Tuples ensure data integrity by being immutable. Their contents cannot be altered after creation.\n"
   ]
  },
  {
   "cell_type": "code",
   "execution_count": null,
   "id": "44e63664-5061-49d1-9d61-a5c19c940b9c",
   "metadata": {},
   "outputs": [],
   "source": [
    "\n",
    "8. What is a hash table, and how does it relate to dictionaries in Python?\n",
    "  -> A hash table is data structure that stores data in key value pairs . \n",
    "      In dictionaries are implemented using hash table and same data store in key value pair.\n",
    "      "
   ]
  },
  {
   "cell_type": "code",
   "execution_count": null,
   "id": "6f9ae0be-069b-4274-ae8f-8b94849c51df",
   "metadata": {},
   "outputs": [],
   "source": [
    "9. Can lists contain different data types in Python?\n",
    "  -> List in python can contain elements of different types. List store hetergenous data. \n",
    "      Eg= grocery_list = [\"Milk\",\"orange\",1,2.2,True,3+5j]\n"
   ]
  },
  {
   "cell_type": "code",
   "execution_count": null,
   "id": "27c060ae-4fd9-4b86-bdaf-5715c41e8d55",
   "metadata": {},
   "outputs": [],
   "source": [
    "10. Explain why strings are immutable in Python.\n",
    "  -> String is immutable in python their content can not be changed.\n",
    "      Immutablity ensure Security and Predictability,Thread safety,Performance optimization."
   ]
  },
  {
   "cell_type": "code",
   "execution_count": null,
   "id": "93014c68-8d40-49e8-8a02-0ca41c926c57",
   "metadata": {},
   "outputs": [],
   "source": [
    "11. What advantages do dictionaries offer over lists for certain tasks?\n",
    "   -> dictionaries stores value in key value pair keys are unique and immutable where data are secure,\n",
    "      and in case of keys their value stores but value can be mutable but key is immutable  while list store data that are mutable and changed. "
   ]
  },
  {
   "cell_type": "code",
   "execution_count": 7,
   "id": "b0e4902a-a5db-46b1-b3a2-cc67756443d1",
   "metadata": {},
   "outputs": [
    {
     "data": {
      "text/plain": [
       "3"
      ]
     },
     "execution_count": 7,
     "metadata": {},
     "output_type": "execute_result"
    }
   ],
   "source": [
    "#12. Describe a scenario where using a tuple would be preferable over a list.\n",
    "   # If u store a data which u cannot want to be changed/ modified so use tuple instead of list.\n",
    "tuple1 = (\"pwskills\",1,1,1,2,2,2.2)\n",
    "tuple1.count(1)"
   ]
  },
  {
   "cell_type": "code",
   "execution_count": 9,
   "id": "57721599-2012-4ff4-82dd-de3882b24783",
   "metadata": {},
   "outputs": [
    {
     "data": {
      "text/plain": [
       "{1, 2, 'ajay', 'bijay'}"
      ]
     },
     "execution_count": 9,
     "metadata": {},
     "output_type": "execute_result"
    }
   ],
   "source": [
    "#13. How do sets handle duplicate values in Python?\n",
    "#-> Sets doesnt allow duplicate elements. sets contain unique elements and duplicate elements are ignored and dose not allow in sets.\n",
    "s= {1,2,1,2,\"ajay\",\"bijay\",\"ajay\",\"bijay\"}\n",
    "s"
   ]
  },
  {
   "cell_type": "code",
   "execution_count": 12,
   "id": "ea002284-61c7-4e5d-8366-6612dc5666c8",
   "metadata": {},
   "outputs": [
    {
     "name": "stdout",
     "output_type": "stream",
     "text": [
      "True\n"
     ]
    }
   ],
   "source": [
    "#14. How does the \"in\" keyword work differently for lists and dictionaries?\n",
    " # -> in checks membership but it work diffently for list and dictionaries\n",
    "   #  List\n",
    "grocery_list=[\"milk\",\"orange\",1,2.2,True,(3+5j)]\n",
    "\"milk\" in grocery_list\n",
    "   # dictionaries \n",
    "my_dict= {\"a\":5,\"b\":9}\n",
    "print(\"a\" in my_dict)"
   ]
  },
  {
   "cell_type": "code",
   "execution_count": null,
   "id": "36ef7fce-d454-426e-88c7-0520312507ca",
   "metadata": {},
   "outputs": [],
   "source": [
    "15. Can you modify the elements of a tuple? Explain why or why not.\n",
    "  -> No, you cannot modify the elements of a tuple because tuples are immutable in Python.\n",
    "     Once a tuple is created, its contents cannot be changed (no item assignment, addition, or deletion).\n",
    "    This immutability makes tuples suitable for use as keys in dictionaries or elements of sets, unlike lists.\n",
    "T=(1,2,5)\n",
    "T(0)=15\n",
    "        \n"
   ]
  },
  {
   "cell_type": "code",
   "execution_count": 18,
   "id": "fb1d7905-c46b-4fd4-ba8a-6cc67acffaef",
   "metadata": {},
   "outputs": [
    {
     "ename": "NameError",
     "evalue": "name 'students' is not defined",
     "output_type": "error",
     "traceback": [
      "\u001b[31m---------------------------------------------------------------------------\u001b[39m",
      "\u001b[31mNameError\u001b[39m                                 Traceback (most recent call last)",
      "\u001b[36mCell\u001b[39m\u001b[36m \u001b[39m\u001b[32mIn[18]\u001b[39m\u001b[32m, line 10\u001b[39m\n\u001b[32m      4\u001b[39m sudents = {\n\u001b[32m      5\u001b[39m     \u001b[33m\"\u001b[39m\u001b[33m101\u001b[39m\u001b[33m\"\u001b[39m: {\u001b[33m\"\u001b[39m\u001b[33mname\u001b[39m\u001b[33m\"\u001b[39m: \u001b[33m\"\u001b[39m\u001b[33mAlice\u001b[39m\u001b[33m\"\u001b[39m, \u001b[33m\"\u001b[39m\u001b[33mage\u001b[39m\u001b[33m\"\u001b[39m: \u001b[32m20\u001b[39m},\n\u001b[32m      6\u001b[39m     \u001b[33m\"\u001b[39m\u001b[33m102\u001b[39m\u001b[33m\"\u001b[39m: {\u001b[33m\"\u001b[39m\u001b[33mname\u001b[39m\u001b[33m\"\u001b[39m: \u001b[33m\"\u001b[39m\u001b[33mBob\u001b[39m\u001b[33m\"\u001b[39m, \u001b[33m\"\u001b[39m\u001b[33mage\u001b[39m\u001b[33m\"\u001b[39m: \u001b[32m21\u001b[39m}\n\u001b[32m      7\u001b[39m }\n\u001b[32m      9\u001b[39m \u001b[38;5;66;03m# Accessing nested data\u001b[39;00m\n\u001b[32m---> \u001b[39m\u001b[32m10\u001b[39m \u001b[38;5;28mprint\u001b[39m(\u001b[43mstudents\u001b[49m[\u001b[33m\"\u001b[39m\u001b[33m101\u001b[39m\u001b[33m\"\u001b[39m][\u001b[33m\"\u001b[39m\u001b[33mname\u001b[39m\u001b[33m\"\u001b[39m]) \n",
      "\u001b[31mNameError\u001b[39m: name 'students' is not defined"
     ]
    }
   ],
   "source": [
    "#16. What is a nested dictionary, and give an example of its use case?\n",
    "#-> nested dictionary is a dictionary where the value of one or more keys is another dictionary.\n",
    " #  Use case example: Student id\n",
    "sudents = {\n",
    "    \"101\": {\"name\": \"Alice\", \"age\": 20},\n",
    "    \"102\": {\"name\": \"Bob\", \"age\": 21}\n",
    "}\n",
    "\n",
    "# Accessing nested data\n",
    "print(students[\"101\"][\"name\"]) "
   ]
  },
  {
   "cell_type": "code",
   "execution_count": 19,
   "id": "3227f801-b73d-42ca-9580-e9c70ab13943",
   "metadata": {},
   "outputs": [
    {
     "ename": "SyntaxError",
     "evalue": "invalid syntax (986793199.py, line 1)",
     "output_type": "error",
     "traceback": [
      "  \u001b[36mCell\u001b[39m\u001b[36m \u001b[39m\u001b[32mIn[19]\u001b[39m\u001b[32m, line 1\u001b[39m\n\u001b[31m    \u001b[39m\u001b[31m17. Describe the time complexity of accessing elements in a dictionary.\u001b[39m\n        ^\n\u001b[31mSyntaxError\u001b[39m\u001b[31m:\u001b[39m invalid syntax\n"
     ]
    }
   ],
   "source": [
    "\n",
    "17. Describe the time complexity of accessing elements in a dictionary.\n",
    "  -> Accessing elements in a dictionary is O(1) on average.\n",
    "\n",
    "This is because dictionaries use a hash table internally.\n",
    "\n",
    "Worst-case time complexity can go up to O(n) if there are many hash collisions, but that's rare."
   ]
  },
  {
   "cell_type": "code",
   "execution_count": null,
   "id": "415ffe5f-ab0b-4a38-bef9-348f4ad98574",
   "metadata": {},
   "outputs": [],
   "source": [
    "8. In what situations are lists preferred over dictionaries?\n",
    "  -> You care about order and sequence of items.\n",
    "     You only need values, not key-value pairs.\n",
    "     You frequently perform index-based access or iteration.\n",
    "     Example use cases:\n",
    "    Storing a list of student names: [\"ajay\", \"biajy\",\"nikku\", \"Charlie\"]"
   ]
  },
  {
   "cell_type": "code",
   "execution_count": null,
   "id": "7c0e49f3-2322-4c63-affa-5595dbbe8086",
   "metadata": {},
   "outputs": [],
   "source": [
    "19. Why are dictionaries considered unordered, and how does that affect data retrieval?\n",
    "   -> Dictionaries are unordered but from python 3.7 version , dictionaries retain the order of insertion.\n",
    "       This means that if you iterate over a dictionary the items will be returned in the ordered were added.\n"
   ]
  },
  {
   "cell_type": "code",
   "execution_count": null,
   "id": "a39d8f96-7c17-4bbc-8057-8ec16dad9ec4",
   "metadata": {},
   "outputs": [],
   "source": [
    "20. Explain the difference between a list and a dictionary in terms of data retrieval.\n",
    "   -> Lists retrieve elements based on their numerical index (position) while dictionaries retrieve elements based on their unique keys.\n",
    "       "
   ]
  },
  {
   "cell_type": "code",
   "execution_count": null,
   "id": "9e95f13b-cfeb-40a5-8a91-599c3e34395b",
   "metadata": {},
   "outputs": [],
   "source": [
    "   #   Practical question "
   ]
  },
  {
   "cell_type": "code",
   "execution_count": 20,
   "id": "f4d7a5f6-fe10-4878-b0f2-b68cb8894933",
   "metadata": {},
   "outputs": [
    {
     "name": "stdout",
     "output_type": "stream",
     "text": [
      "Nikku mishra\n"
     ]
    }
   ],
   "source": [
    "#1. Write a code to create a string with your name and print it.\n",
    "name=\"Nikku mishra\"\n",
    "print(name)\n",
    "\n"
   ]
  },
  {
   "cell_type": "code",
   "execution_count": 23,
   "id": "29323779-1d2a-4cc2-881c-002154dd2a26",
   "metadata": {},
   "outputs": [
    {
     "name": "stdout",
     "output_type": "stream",
     "text": [
      "12\n"
     ]
    }
   ],
   "source": [
    "#2. Write a code to find the length of the string \"Hello World\".\n",
    "s=\"Hello World \"\n",
    "print(len(s))"
   ]
  },
  {
   "cell_type": "code",
   "execution_count": 30,
   "id": "a3cd55e9-c182-41a7-9c8e-a87723fb9d6e",
   "metadata": {},
   "outputs": [
    {
     "data": {
      "text/plain": [
       "'tat'"
      ]
     },
     "execution_count": 30,
     "metadata": {},
     "output_type": "execute_result"
    }
   ],
   "source": [
    "#3. Write a code to slice the first 3 characters from the string \"Python Programming\".\n",
    "string = \"tata moters\"\n",
    "string[:3]"
   ]
  },
  {
   "cell_type": "code",
   "execution_count": 31,
   "id": "15ad1598-f23a-4198-a534-588b3773a666",
   "metadata": {},
   "outputs": [
    {
     "name": "stdout",
     "output_type": "stream",
     "text": [
      "HELLO\n"
     ]
    }
   ],
   "source": [
    "#4. Write a code to convert the string \"hello\" to uppercase.\n",
    "text= \"hello\"\n",
    "print(text.upper())\n"
   ]
  },
  {
   "cell_type": "code",
   "execution_count": 32,
   "id": "a8a02b39-b3a1-4c84-a71e-88ce69b737d6",
   "metadata": {},
   "outputs": [
    {
     "data": {
      "text/plain": [
       "'orange'"
      ]
     },
     "execution_count": 32,
     "metadata": {},
     "output_type": "execute_result"
    }
   ],
   "source": [
    "#5. Write a code to replace the word \"apple\" with \"orange\" in the string like apple\".\n",
    "s=\"apple\"\n",
    "s.replace(\"apple\",\"orange\")"
   ]
  },
  {
   "cell_type": "code",
   "execution_count": 33,
   "id": "47b72a82-df94-4a9c-b537-d12cbdb0e377",
   "metadata": {},
   "outputs": [
    {
     "name": "stdout",
     "output_type": "stream",
     "text": [
      "[1, 2, 3, 4, 5]\n"
     ]
    }
   ],
   "source": [
    "#6. Write a code to create a list with numbers 1 to 5 and print it.\n",
    "numbers=[1,2,3,4,5]\n",
    "print(numbers)\n",
    "    "
   ]
  },
  {
   "cell_type": "code",
   "execution_count": 37,
   "id": "164a36ef-d534-42d2-af7e-6b69762caa69",
   "metadata": {},
   "outputs": [
    {
     "data": {
      "text/plain": [
       "[1, 2, 3, 4, 10]"
      ]
     },
     "execution_count": 37,
     "metadata": {},
     "output_type": "execute_result"
    }
   ],
   "source": [
    "#7. Write a code to append the number 10 to the list [1, 2, 3, 4].\n",
    "numbers=[1,2,3,4]\n",
    "numbers.append(10)\n",
    "numbers"
   ]
  },
  {
   "cell_type": "code",
   "execution_count": 38,
   "id": "36caae02-84b3-46fd-9ad3-32cdd0d89814",
   "metadata": {},
   "outputs": [
    {
     "data": {
      "text/plain": [
       "[1, 2, 4, 5]"
      ]
     },
     "execution_count": 38,
     "metadata": {},
     "output_type": "execute_result"
    }
   ],
   "source": [
    "#8. Write a code to remove the number 3 from the list [1, 2, 3, 4, 5].\n",
    "numbers=[1,2,3,4,5]\n",
    "numbers.remove(3)\n",
    "numbers"
   ]
  },
  {
   "cell_type": "code",
   "execution_count": 43,
   "id": "36c9f0b8-f6b4-4ee9-b66f-a0a8a4a1b1b8",
   "metadata": {},
   "outputs": [
    {
     "data": {
      "text/plain": [
       "'b'"
      ]
     },
     "execution_count": 43,
     "metadata": {},
     "output_type": "execute_result"
    }
   ],
   "source": [
    "#9. Write a code to access the second element in the list ['a', 'b', 'c', 'd\n",
    "text= ['a','b','c','d']\n",
    "text[1]"
   ]
  },
  {
   "cell_type": "code",
   "execution_count": 47,
   "id": "9eefde99-e3bc-450d-ac3c-ad6b203c5425",
   "metadata": {},
   "outputs": [
    {
     "name": "stdout",
     "output_type": "stream",
     "text": [
      "[50, 40, 30, 20, 10]\n"
     ]
    }
   ],
   "source": [
    "#10. Write a code to reverse the list [10, 20, 30, 40, 50)\n",
    "numbers=[10,20,30,40,50]\n",
    "numbers.reverse()\n",
    "print(numbers)"
   ]
  },
  {
   "cell_type": "code",
   "execution_count": 1,
   "id": "7ce182c7-6f8d-445e-a032-156846a6f40a",
   "metadata": {},
   "outputs": [
    {
     "name": "stdout",
     "output_type": "stream",
     "text": [
      "(100, 200, 300)\n"
     ]
    }
   ],
   "source": [
    "#11. Write a code to create a tuple with the elements 100, 200, 300 and print it.\n",
    "t=(100,200,300)\n",
    "print(t)\n",
    "\n",
    "\n",
    "\n",
    "\n"
   ]
  },
  {
   "cell_type": "code",
   "execution_count": 6,
   "id": "17ccb911-257f-4699-8b43-ee30790f3884",
   "metadata": {},
   "outputs": [
    {
     "data": {
      "text/plain": [
       "'blue'"
      ]
     },
     "execution_count": 6,
     "metadata": {},
     "output_type": "execute_result"
    }
   ],
   "source": [
    "#12. Write a code to access the second-to-last element of the tuple ('red', 'green', 'blue', 'yellow')\n",
    "t= ('red','green','blue','yellow')\n",
    "t[2]"
   ]
  },
  {
   "cell_type": "code",
   "execution_count": 7,
   "id": "50b8b4b0-5cb1-4698-a7e3-5aed227ef555",
   "metadata": {},
   "outputs": [
    {
     "data": {
      "text/plain": [
       "5"
      ]
     },
     "execution_count": 7,
     "metadata": {},
     "output_type": "execute_result"
    }
   ],
   "source": [
    "#13. Write a code to find the minimum number in the tuple (10, 20, 5, 15).\n",
    "t=(10,20,5,15,)\n",
    "min(t)\n",
    "    "
   ]
  },
  {
   "cell_type": "code",
   "execution_count": 8,
   "id": "ef8e32f4-274e-40ae-a7bd-beccf26fba78",
   "metadata": {},
   "outputs": [
    {
     "data": {
      "text/plain": [
       "1"
      ]
     },
     "execution_count": 8,
     "metadata": {},
     "output_type": "execute_result"
    }
   ],
   "source": [
    "#14. Write a code to find the index of the element \"cat\" in the tuple (dog', 'cat', 'rabbit')\n",
    "t=(\"dog\",\"cat\",\"rabbit\")\n",
    "t.index(\"cat\")"
   ]
  },
  {
   "cell_type": "code",
   "execution_count": 9,
   "id": "38513023-bd7b-439e-a1e9-cf80d297d7fd",
   "metadata": {},
   "outputs": [
    {
     "data": {
      "text/plain": [
       "True"
      ]
     },
     "execution_count": 9,
     "metadata": {},
     "output_type": "execute_result"
    }
   ],
   "source": [
    "#15. Write a code to create a tuple containing three different fruits and check if \"kiwi\" is in it.\n",
    "fruits=(\"apple\",\"kiwi\",\"mango\")\n",
    "\"kiwi\" in fruits"
   ]
  },
  {
   "cell_type": "code",
   "execution_count": 10,
   "id": "7a0a455e-b1e2-4f06-b09f-82afeafbf21b",
   "metadata": {},
   "outputs": [
    {
     "name": "stdout",
     "output_type": "stream",
     "text": [
      "{'c', 'b', 'a'}\n"
     ]
    }
   ],
   "source": [
    "#16. Write a code to create a set with the elements a', 'b', 'c' and print it.\n",
    "s={'a','b','c'}\n",
    "print(s)"
   ]
  },
  {
   "cell_type": "code",
   "execution_count": 11,
   "id": "4a7e2c28-79a5-4018-b7bf-803f1a8a4211",
   "metadata": {},
   "outputs": [
    {
     "data": {
      "text/plain": [
       "<function set.clear()>"
      ]
     },
     "execution_count": 11,
     "metadata": {},
     "output_type": "execute_result"
    }
   ],
   "source": [
    "#17. Write a code to clear all elements from the set (1, 2, 3, 4, 5].\n",
    "s={1,2,3,4,5}\n",
    "s.clear"
   ]
  },
  {
   "cell_type": "code",
   "execution_count": 14,
   "id": "93ad08dc-23e2-4171-8a50-cb3a44a7843d",
   "metadata": {},
   "outputs": [
    {
     "name": "stdout",
     "output_type": "stream",
     "text": [
      "{1, 2, 3}\n"
     ]
    }
   ],
   "source": [
    "#18. Write a code to remove the element 4 from the set (1, 2, 3, 4).\n",
    "s={1,2,3,4}\n",
    "s.remove(4)\n",
    "print(s)\n",
    "    "
   ]
  },
  {
   "cell_type": "code",
   "execution_count": 15,
   "id": "d0bb100e-ee31-4797-9768-f7e5cc244cc4",
   "metadata": {},
   "outputs": [
    {
     "data": {
      "text/plain": [
       "{1, 2, 3, 4, 5}"
      ]
     },
     "execution_count": 15,
     "metadata": {},
     "output_type": "execute_result"
    }
   ],
   "source": [
    "#19. Write a code to find the union of two sets (1, 2, 3) and (3, 4, 5).\n",
    "s1= {1,2,3}\n",
    "s2={3,4,5}\n",
    "s1|s2"
   ]
  },
  {
   "cell_type": "code",
   "execution_count": 16,
   "id": "10f7d7d9-ada0-4d77-8c24-9ce4a864c3a4",
   "metadata": {},
   "outputs": [
    {
     "data": {
      "text/plain": [
       "{2, 3}"
      ]
     },
     "execution_count": 16,
     "metadata": {},
     "output_type": "execute_result"
    }
   ],
   "source": [
    "#20. Write a code to find the intersection of two sets (1, 2, 3} and {2, 3, 4).\n",
    "s1= {1,2,3}\n",
    "s2={2,3,4,}\n",
    "s1&s2\n"
   ]
  },
  {
   "cell_type": "code",
   "execution_count": 18,
   "id": "ce002fce-8add-414d-b5bf-57e513b19a3d",
   "metadata": {},
   "outputs": [
    {
     "data": {
      "text/plain": [
       "{'name': 'Niku', 'age': '23', 'city': 'gorkhaphur'}"
      ]
     },
     "execution_count": 18,
     "metadata": {},
     "output_type": "execute_result"
    }
   ],
   "source": [
    "#21. Write a code to create a dictionary with the keys \"name\", \"age\", and \"city\", and print it.\n",
    "d={\"name\":\"Niku\",\"age\":\"23\",\"city\":\"gorkhaphur\"}\n",
    "d\n",
    "    "
   ]
  },
  {
   "cell_type": "code",
   "execution_count": 22,
   "id": "21dff28d-ecbc-4cce-94a7-3e8b968a50df",
   "metadata": {},
   "outputs": [
    {
     "data": {
      "text/plain": [
       "{'name': 'john', 'age': '25', 'country': 'USA'}"
      ]
     },
     "execution_count": 22,
     "metadata": {},
     "output_type": "execute_result"
    }
   ],
   "source": [
    "#22. Write a code to add a new key-value pair \"country\": \"USA\" to the dictionary (name: John, age: 25).\n",
    "d={\"name\":\"john\",\"age\":\"25\",\"country\":\"USA\"}\n",
    "d"
   ]
  },
  {
   "cell_type": "code",
   "execution_count": 23,
   "id": "b569a1ad-61b6-4a73-aad9-23f62bcd1f11",
   "metadata": {},
   "outputs": [
    {
     "data": {
      "text/plain": [
       "'alice'"
      ]
     },
     "execution_count": 23,
     "metadata": {},
     "output_type": "execute_result"
    }
   ],
   "source": [
    "#23. Write a code to access the value associated with the key \"name\" in the dictionary {'name': 'Alice', age:30}\n",
    "d={\"name\":\"alice\",\"age\":\"30\"}\n",
    "d['name']"
   ]
  },
  {
   "cell_type": "code",
   "execution_count": 25,
   "id": "2cd4081e-20a2-464d-b63a-2204d4e38109",
   "metadata": {},
   "outputs": [
    {
     "data": {
      "text/plain": [
       "{'name': 'bob', 'city': 'new york'}"
      ]
     },
     "execution_count": 25,
     "metadata": {},
     "output_type": "execute_result"
    }
   ],
   "source": [
    "#24. Write a code to remove the key 'age' from the dictionary ('name': 'Bob, 'age': 22, city: \"New York').\n",
    "d={\"name\":\"bob\",\"age\":\"22\",\"city\":\"new york\"}   \n",
    "del d [\"age\"]\n",
    "d\n"
   ]
  },
  {
   "cell_type": "code",
   "execution_count": 26,
   "id": "f2a12666-d69c-412f-9cae-72f8ca219590",
   "metadata": {},
   "outputs": [
    {
     "data": {
      "text/plain": [
       "True"
      ]
     },
     "execution_count": 26,
     "metadata": {},
     "output_type": "execute_result"
    }
   ],
   "source": [
    "#25. Write a code to check if the key \"city\" exists in the dictionary ('name': 'Alice', 'city: Paris)\n",
    "d={\"name\":\"Alice\",\"city\":\"Paris\"}\n",
    "\"city\" in d"
   ]
  },
  {
   "cell_type": "code",
   "execution_count": 27,
   "id": "2fdb11bb-d230-462f-984b-07fff8a6b49d",
   "metadata": {},
   "outputs": [
    {
     "name": "stdout",
     "output_type": "stream",
     "text": [
      "[5, 10, 20] (50, 70, 60) {'a': 1, 'b': 6, 'c': 10}\n"
     ]
    }
   ],
   "source": [
    "#26. Write a code to create a list, a tuple, and a dictionary, and print them all.\n",
    "my_list= [5,10,20]\n",
    "my_tuple=(50,70,60)\n",
    "my_dict= {'a':1,'b':6,'c':10}\n",
    "print(my_list,my_tuple,my_dict)\n",
    "    \n",
    "    "
   ]
  },
  {
   "cell_type": "code",
   "execution_count": 29,
   "id": "fc282adf-0f9a-48f3-a779-6c412bc19154",
   "metadata": {},
   "outputs": [
    {
     "name": "stdout",
     "output_type": "stream",
     "text": [
      "[1, 6, 11, 16, 21, 26, 31, 36, 41, 46, 51, 56, 61, 66, 71, 76, 81, 86, 91, 96]\n"
     ]
    }
   ],
   "source": [
    "#27. Write a code to create a list of 5 random numbers between 1 and 100, sort it in ascending order, and print the result. (replaced)\n",
    "numbers=list (range(1,99,5))\n",
    "numbers.sort()\n",
    "print(numbers)"
   ]
  },
  {
   "cell_type": "code",
   "execution_count": 32,
   "id": "6b8e1395-6fd8-4b9b-8be0-32fdbf164bd3",
   "metadata": {},
   "outputs": [
    {
     "name": "stdout",
     "output_type": "stream",
     "text": [
      "['apple', 'orange', 'mango', 'potato']\n"
     ]
    }
   ],
   "source": [
    "#28. Write a code to create a list with strings and print the element at the third index.\n",
    "list=[\"apple\",\"orange\",\"mango\",\"potato\",\"pea\"]\n",
    "print(list[0:4])"
   ]
  },
  {
   "cell_type": "code",
   "execution_count": 35,
   "id": "0f0b7ae8-299d-4698-85b3-1719ca60b8e6",
   "metadata": {},
   "outputs": [
    {
     "name": "stdout",
     "output_type": "stream",
     "text": [
      "{'name': 'appu', 'age': '22', 'city': 'ekma'}\n"
     ]
    }
   ],
   "source": [
    "#29. Write a code to combine two dictionaries into one and print the result.\n",
    "d1={'name':'niku','age':'22','city':'delhi'} \n",
    "d2={'name':'appu','age':'22','city':'ekma'}\n",
    "combined={**d1,**d2}\n",
    "print(combined)"
   ]
  },
  {
   "cell_type": "code",
   "execution_count": 37,
   "id": "6bbcf1f3-8247-4c8a-a5bb-ed5d6f567186",
   "metadata": {},
   "outputs": [
    {
     "name": "stdout",
     "output_type": "stream",
     "text": [
      "{'apple', 'mango', 'pea'}\n"
     ]
    }
   ],
   "source": [
    "#30. Write a code to convert a list of strings into a set\n",
    "list=[\"apple\",\"mango\",\"pea\"]\n",
    "set=set(list)\n",
    "print(set)"
   ]
  },
  {
   "cell_type": "code",
   "execution_count": null,
   "id": "abf2a899-cb7d-46f9-b59c-2810dbb88e3d",
   "metadata": {},
   "outputs": [],
   "source": []
  }
 ],
 "metadata": {
  "kernelspec": {
   "display_name": "Python 3 (ipykernel)",
   "language": "python",
   "name": "python3"
  },
  "language_info": {
   "codemirror_mode": {
    "name": "ipython",
    "version": 3
   },
   "file_extension": ".py",
   "mimetype": "text/x-python",
   "name": "python",
   "nbconvert_exporter": "python",
   "pygments_lexer": "ipython3",
   "version": "3.13.3"
  }
 },
 "nbformat": 4,
 "nbformat_minor": 5
}
